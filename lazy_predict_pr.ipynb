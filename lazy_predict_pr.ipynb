{
  "nbformat": 4,
  "nbformat_minor": 0,
  "metadata": {
    "colab": {
      "provenance": [],
      "authorship_tag": "ABX9TyPFiIbBbyF6lSU0DNK6Oqcm",
      "include_colab_link": true
    },
    "kernelspec": {
      "name": "python3",
      "display_name": "Python 3"
    },
    "language_info": {
      "name": "python"
    }
  },
  "cells": [
    {
      "cell_type": "markdown",
      "metadata": {
        "id": "view-in-github",
        "colab_type": "text"
      },
      "source": [
        "<a href=\"https://colab.research.google.com/github/evakaldy/Bootcamp_Final_Project/blob/eva_database_exploration/lazy_predict_pr.ipynb\" target=\"_parent\"><img src=\"https://colab.research.google.com/assets/colab-badge.svg\" alt=\"Open In Colab\"/></a>"
      ]
    },
    {
      "cell_type": "code",
      "execution_count": 1,
      "metadata": {
        "id": "0b9REA-VOh5r"
      },
      "outputs": [],
      "source": [
        "def run_lazy_predict(X, y):\n",
        "  # !pip install lazypredict\n",
        "  import lazypredict\n",
        "  from lazypredict.Supervised import LazyClassifier\n",
        "  from sklearn.datasets import load_breast_cancer\n",
        "  from sklearn.model_selection import train_test_split\n",
        "\n",
        "  # data = load_breast_cancer()\n",
        "  # X = data.data\n",
        "  # y= data.target\n",
        "  # # Split the data into training and testing sets\n",
        "  # X_train, X_test, y_train, y_test = train_test_split(X, y, test_size=0.3, random_state=42)\n",
        "\n",
        "\n",
        "  X_train, X_test, y_train, y_test = train_test_split(X, y,test_size=.5,random_state =123)\n",
        "\n",
        "  clf = LazyClassifier(verbose=0,ignore_warnings=True, custom_metric=None)\n",
        "  models,predictions = clf.fit(X_train, X_test, y_train, y_test)\n",
        "\n",
        "  print(models)"
      ]
    }
  ]
}