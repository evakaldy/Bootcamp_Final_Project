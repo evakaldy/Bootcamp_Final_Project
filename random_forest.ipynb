{
  "nbformat": 4,
  "nbformat_minor": 0,
  "metadata": {
    "colab": {
      "provenance": [],
      "authorship_tag": "ABX9TyPmtyeV9Y8fQ5FQ9e0KfGoB",
      "include_colab_link": true
    },
    "kernelspec": {
      "name": "python3",
      "display_name": "Python 3"
    },
    "language_info": {
      "name": "python"
    }
  },
  "cells": [
    {
      "cell_type": "markdown",
      "metadata": {
        "id": "view-in-github",
        "colab_type": "text"
      },
      "source": [
        "<a href=\"https://colab.research.google.com/github/evakaldy/Bootcamp_Final_Project/blob/eva_database_exploration/random_forest.ipynb\" target=\"_parent\"><img src=\"https://colab.research.google.com/assets/colab-badge.svg\" alt=\"Open In Colab\"/></a>"
      ]
    },
    {
      "cell_type": "code",
      "execution_count": null,
      "metadata": {
        "id": "ZaH2XA9eKtJv"
      },
      "outputs": [],
      "source": [
        "def single_random_forest(df_train_for_randomForest):\n",
        "  ###RANDOM_FOREST\n",
        "\n",
        "  import pandas as pd\n",
        "  from sklearn.ensemble import RandomForestClassifier\n",
        "  from sklearn.model_selection import train_test_split\n",
        "  from sklearn.metrics import classification_report, accuracy_score\n",
        "\n",
        "\n",
        "\n",
        "  # Specify features and target\n",
        "  features = [ 'marital_nr', 'housing_nr', 'loan_nr', 'job_nr_0',\n",
        "        'job_nr_1', 'job_nr_2', 'age_nr_0', 'age_nr_1', 'age_nr_2',\n",
        "        'pdays_nr_0', 'pdays_nr_1', 'pdays_nr_2', 'education_nr_0',\n",
        "        'education_nr_1', 'education_nr_2', 'campaign_nr_0', 'campaign_nr_1',\n",
        "        'previous_nr_0', 'previous_nr_1', 'poutcome_nr_0', 'poutcome_nr_1',\n",
        "        'poutcome_nr_2', 'poutcome_nr_3']\n",
        "  target = 'y_nr'\n",
        "\n",
        "  X = df_train_for_randomForest[features]\n",
        "  y = df_train_for_randomForest[target]\n",
        "\n",
        "  # Split the data into training and testing sets\n",
        "  X_train, X_test, y_train, y_test = train_test_split(X, y, test_size=0.3, random_state=42)\n",
        "\n",
        "  # Train the Random Forest Classifier\n",
        "  rf_model = RandomForestClassifier(random_state=42, n_estimators=100)\n",
        "  rf_model.fit(X_train, y_train)\n",
        "\n",
        "  # Predict on the test set\n",
        "  y_pred = rf_model.predict(X_test)\n",
        "\n",
        "  # Evaluate the model\n",
        "  print(\"Classification Report:\")\n",
        "  print(classification_report(y_test, y_pred))\n",
        "\n",
        "  print(\"Accuracy Score:\", accuracy_score(y_test, y_pred))\n",
        "\n",
        "  print()\n",
        "  print('-------------------------------------')\n",
        "  print('Feature importance')\n",
        "  # Feature importance\n",
        "  importance = rf_model.feature_importances_\n",
        "  for i, feature in enumerate(features):\n",
        "      print(f\"{feature}: {importance[i]:.4f}\")\n",
        "\n",
        "  return rf_model\n"
      ]
    }
  ]
}